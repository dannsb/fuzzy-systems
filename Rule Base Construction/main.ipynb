{
 "cells": [
  {
   "cell_type": "markdown",
   "id": "da076fdb",
   "metadata": {},
   "source": [
    "## Classifier using Grid Partition"
   ]
  },
  {
   "cell_type": "markdown",
   "id": "94d3667a",
   "metadata": {},
   "source": [
    "#### Import libs"
   ]
  },
  {
   "cell_type": "code",
   "execution_count": null,
   "id": "8145b08b",
   "metadata": {},
   "outputs": [],
   "source": [
    "import numpy as np\n",
    "from sklearn.datasets import load_iris\n",
    "from sklearn.model_selection import train_test_split\n",
    "from collections import defaultdict"
   ]
  },
  {
   "cell_type": "markdown",
   "id": "26a9e2e4",
   "metadata": {},
   "source": [
    "#### Load data and prepare"
   ]
  },
  {
   "cell_type": "code",
   "execution_count": 18,
   "id": "1392b05d",
   "metadata": {},
   "outputs": [],
   "source": [
    "iris = load_iris()\n",
    "X = iris.data[:, [2, 3]]\n",
    "y = iris.target\n",
    "target_names = iris.target_names\n",
    "\n",
    "X_train, X_test, y_train, y_test = train_test_split(X, y, test_size=0.3, random_state=42, stratify=y)"
   ]
  },
  {
   "cell_type": "markdown",
   "id": "3a1234d5",
   "metadata": {},
   "source": [
    "#### Define Mfs"
   ]
  },
  {
   "cell_type": "code",
   "execution_count": 21,
   "id": "7f6933f9",
   "metadata": {},
   "outputs": [],
   "source": [
    "def get_membership_functions(data):\n",
    "    min_val, max_val = np.min(data), np.max(data)\n",
    "    mid_val = (min_val + max_val) / 2\n",
    "    \n",
    "    mfs = {\n",
    "        'small': lambda x: np.maximum(0, 1 - np.abs(x - min_val) / (mid_val - min_val)),\n",
    "        'medium': lambda x: np.maximum(0, 1 - np.abs(x - mid_val) / (max_val - mid_val)),\n",
    "        'large': lambda x: np.maximum(0, 1 - np.abs(x - max_val) / (max_val - mid_val)),\n",
    "    }\n",
    "    return mfs\n",
    "\n",
    "petal_length_mfs = get_membership_functions(X_train[:, 0])\n",
    "petal_width_mfs = get_membership_functions(X_train[:, 1])\n",
    "mf_names = ['small', 'medium', 'large']"
   ]
  },
  {
   "cell_type": "markdown",
   "id": "079292db",
   "metadata": {},
   "source": [
    "#### Generate Rules using confidence"
   ]
  },
  {
   "cell_type": "markdown",
   "id": "c06ae2f0",
   "metadata": {},
   "source": [
    "For every possible input combination (e.g., \"length is small AND width is medium\"), it decides what the output (the THEN part) should be."
   ]
  },
  {
   "cell_type": "code",
   "execution_count": 22,
   "id": "10f524f8",
   "metadata": {},
   "outputs": [],
   "source": [
    "def generate_rule_base(X, y, pl_mfs, pw_mfs):\n",
    "    rule_base = {}\n",
    "    \n",
    "    for pl_name in mf_names:\n",
    "        for pw_name in mf_names:\n",
    "            rule_antecedent = (pl_name, pw_name)\n",
    "            \n",
    "            confidence_per_class = defaultdict(float)\n",
    "            total_activation_strength = 0.0\n",
    "\n",
    "            for cls in np.unique(y):\n",
    "                X_class = X[y == cls]\n",
    "                \n",
    "                pl_activation = pl_mfs[pl_name](X_class[:, 0])\n",
    "                pw_activation = pw_mfs[pw_name](X_class[:, 1])\n",
    "                activation_strength = np.minimum(pl_activation, pw_activation)\n",
    "                \n",
    "                sum_activation_class = np.sum(activation_strength)\n",
    "                confidence_per_class[cls] = sum_activation_class\n",
    "            \n",
    "            pl_activation_all = pl_mfs[pl_name](X[:, 0])\n",
    "            pw_activation_all = pw_mfs[pw_name](X[:, 1])\n",
    "            total_activation_strength = np.sum(np.minimum(pl_activation_all, pw_activation_all))\n",
    "            \n",
    "            if total_activation_strength > 0:\n",
    "                for cls in confidence_per_class:\n",
    "                    confidence_per_class[cls] /= total_activation_strength\n",
    "            \n",
    "            if confidence_per_class:\n",
    "                best_class = max(confidence_per_class, key=confidence_per_class.get)\n",
    "                rule_base[rule_antecedent] = best_class\n",
    "                \n",
    "    return rule_base"
   ]
  },
  {
   "cell_type": "code",
   "execution_count": 36,
   "id": "f7dbdea6",
   "metadata": {},
   "outputs": [
    {
     "name": "stdout",
     "output_type": "stream",
     "text": [
      "Extracted Rules:\n",
      "IF petal_length is small AND petal_width is small THEN class is setosa\n",
      "IF petal_length is small AND petal_width is medium THEN class is setosa\n",
      "IF petal_length is small AND petal_width is large THEN class is versicolor\n",
      "IF petal_length is medium AND petal_width is small THEN class is setosa\n",
      "IF petal_length is medium AND petal_width is medium THEN class is versicolor\n",
      "IF petal_length is medium AND petal_width is large THEN class is virginica\n",
      "IF petal_length is large AND petal_width is small THEN class is versicolor\n",
      "IF petal_length is large AND petal_width is medium THEN class is virginica\n",
      "IF petal_length is large AND petal_width is large THEN class is virginica\n"
     ]
    }
   ],
   "source": [
    "rule_base = generate_rule_base(X_train, y_train, petal_length_mfs, petal_width_mfs)\n",
    "\n",
    "print(\"Extracted Rules:\")\n",
    "for rule, consequent in rule_base.items():\n",
    "    print(f\"IF petal_length is {rule[0]} AND petal_width is {rule[1]} THEN class is {target_names[consequent]}\")"
   ]
  },
  {
   "cell_type": "markdown",
   "id": "67757e23",
   "metadata": {},
   "source": [
    "#### Predict and evaluation"
   ]
  },
  {
   "cell_type": "code",
   "execution_count": 31,
   "id": "b82597b3",
   "metadata": {},
   "outputs": [],
   "source": [
    "def predict(X_data, rules, pl_mfs, pw_mfs):\n",
    "    predictions = []\n",
    "    for sample in X_data:\n",
    "        pl_sample, pw_sample = sample[0], sample[1]\n",
    "        \n",
    "        best_rule_activation = -1\n",
    "        best_rule_class = -1\n",
    "        \n",
    "        for antecedent, consequent_class in rules.items():\n",
    "            pl_name, pw_name = antecedent\n",
    "            \n",
    "            pl_act = pl_mfs[pl_name](pl_sample)\n",
    "            pw_act = pw_mfs[pw_name](pw_sample)\n",
    "            activation = min(pl_act, pw_act)\n",
    "            \n",
    "            if activation > best_rule_activation:\n",
    "                best_rule_activation = activation\n",
    "                best_rule_class = consequent_class\n",
    "        \n",
    "        predictions.append(best_rule_class)\n",
    "        \n",
    "    return np.array(predictions)"
   ]
  },
  {
   "cell_type": "code",
   "execution_count": 34,
   "id": "6202a499",
   "metadata": {},
   "outputs": [
    {
     "name": "stdout",
     "output_type": "stream",
     "text": [
      "Accuracy: 88.89%\n"
     ]
    }
   ],
   "source": [
    "y_pred = predict(X_test, rule_base, petal_length_mfs, petal_width_mfs)\n",
    "\n",
    "accuracy = np.mean(y_pred == y_test)\n",
    "print(f\"Accuracy: {accuracy * 100:.2f}%\")"
   ]
  }
 ],
 "metadata": {
  "kernelspec": {
   "display_name": "base",
   "language": "python",
   "name": "python3"
  },
  "language_info": {
   "codemirror_mode": {
    "name": "ipython",
    "version": 3
   },
   "file_extension": ".py",
   "mimetype": "text/x-python",
   "name": "python",
   "nbconvert_exporter": "python",
   "pygments_lexer": "ipython3",
   "version": "3.12.7"
  }
 },
 "nbformat": 4,
 "nbformat_minor": 5
}
