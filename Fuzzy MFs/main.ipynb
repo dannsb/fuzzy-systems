{
 "cells": [
  {
   "cell_type": "markdown",
   "metadata": {},
   "source": [
    "# Fuzzy Membership Functions"
   ]
  },
  {
   "cell_type": "markdown",
   "metadata": {},
   "source": [
    "### Triangular\n",
    "Atriangular MF is specified by three parameters {a, b, c}"
   ]
  },
  {
   "cell_type": "code",
   "execution_count": 1,
   "metadata": {},
   "outputs": [
    {
     "name": "stdout",
     "output_type": "stream",
     "text": [
      "x = 0, μ(x) = 0\n",
      "x = 1, μ(x) = 0\n",
      "x = 2, μ(x) = 0.5\n",
      "x = 3, μ(x) = 1.0\n",
      "x = 4, μ(x) = 0.5\n",
      "x = 5, μ(x) = 0.0\n",
      "x = 6, μ(x) = 0\n"
     ]
    }
   ],
   "source": [
    "def triangular(x, a, b, c):\n",
    "    if x<=a:\n",
    "        return 0\n",
    "    elif a<=x<=b:\n",
    "        return (x-a)/(b-a)\n",
    "    elif b<=x<=c:\n",
    "        return (c-x)/(c-b)\n",
    "    else:\n",
    "        return 0 \n",
    "\n",
    "a, b, c = 1, 3, 5\n",
    "xValues = [0, 1, 2, 3, 4, 5, 6]\n",
    "\n",
    "for x in xValues:\n",
    "    result = triangular(x, a, b, c)\n",
    "    print(f\"x = {x}, μ(x) = {result}\")"
   ]
  },
  {
   "cell_type": "markdown",
   "metadata": {},
   "source": [
    "### Trapezoidal\n",
    "A trapezoidal MF is specified by four parameters {a, b, c, d}"
   ]
  },
  {
   "cell_type": "code",
   "execution_count": 2,
   "metadata": {},
   "outputs": [
    {
     "name": "stdout",
     "output_type": "stream",
     "text": [
      "x = 0, μ(x) = 0\n",
      "x = 1, μ(x) = 0\n",
      "x = 2, μ(x) = 0.5\n",
      "x = 3, μ(x) = 1.0\n",
      "x = 4, μ(x) = 1\n",
      "x = 5, μ(x) = 1\n",
      "x = 6, μ(x) = 0.5\n",
      "x = 7, μ(x) = 0\n",
      "x = 8, μ(x) = 0\n"
     ]
    }
   ],
   "source": [
    "def trapezoidal(x, a, b, c, d):\n",
    "    if x <= a or d <= x:\n",
    "        return 0\n",
    "    elif a <= x <= b:\n",
    "        return (x - a) / (b - a)\n",
    "    elif b <= x <= c:\n",
    "        return 1\n",
    "    elif c <= x <= d:\n",
    "        return (d - x) / (d - c)\n",
    "\n",
    "a, b, c, d = 1, 3, 5, 7\n",
    "xValues = [0, 1, 2, 3, 4, 5, 6, 7, 8]\n",
    "\n",
    "for x in xValues:\n",
    "    result = trapezoidal(x, a, b, c, d)\n",
    "    print(f\"x = {x}, μ(x) = {result}\")"
   ]
  },
  {
   "cell_type": "markdown",
   "metadata": {},
   "source": [
    "### Gaussian\n",
    "A Gaussian MF is specified by two parameters {c, σ}"
   ]
  },
  {
   "cell_type": "code",
   "execution_count": 3,
   "metadata": {},
   "outputs": [
    {
     "name": "stdout",
     "output_type": "stream",
     "text": [
      "x = -3, μ(x) = 0.0111\n",
      "x = -2, μ(x) = 0.1353\n",
      "x = -1, μ(x) = 0.6065\n",
      "x = 0, μ(x) = 1.0000\n",
      "x = 1, μ(x) = 0.6065\n",
      "x = 2, μ(x) = 0.1353\n",
      "x = 3, μ(x) = 0.0111\n"
     ]
    }
   ],
   "source": [
    "import math\n",
    "\n",
    "def gaussian(x, c, sigma):\n",
    "    return math.exp(-((x - c) ** 2) / (2 * sigma ** 2))\n",
    "\n",
    "c = 0     \n",
    "sigma = 1 \n",
    "\n",
    "xValues = [-3, -2, -1, 0, 1, 2, 3]\n",
    "\n",
    "for x in xValues:\n",
    "    result = gaussian(x, c, sigma)\n",
    "    print(f\"x = {x}, μ(x) = {result:.4f}\")"
   ]
  }
 ],
 "metadata": {
  "kernelspec": {
   "display_name": "base",
   "language": "python",
   "name": "python3"
  },
  "language_info": {
   "codemirror_mode": {
    "name": "ipython",
    "version": 3
   },
   "file_extension": ".py",
   "mimetype": "text/x-python",
   "name": "python",
   "nbconvert_exporter": "python",
   "pygments_lexer": "ipython3",
   "version": "3.11.11"
  }
 },
 "nbformat": 4,
 "nbformat_minor": 2
}
