{
  "cells": [
    {
      "cell_type": "markdown",
      "metadata": {},
      "source": [
        "# Fuzzy Logic Car Obstacle Avoidance\n",
        "\n",
        "A simple simulation where a car uses fuzzy logic to avoid obstacles on a circular track.\n"
      ]
    },
    {
      "cell_type": "markdown",
      "metadata": {},
      "source": [
        "## Import Libraries\n"
      ]
    },
    {
      "cell_type": "code",
      "execution_count": 1,
      "metadata": {},
      "outputs": [
        {
          "name": "stdout",
          "output_type": "stream",
          "text": [
            "pygame 2.6.1 (SDL 2.28.4, Python 3.12.3)\n",
            "Hello from the pygame community. https://www.pygame.org/contribute.html\n"
          ]
        }
      ],
      "source": [
        "import pygame\n",
        "import math\n",
        "import numpy as np\n",
        "import skfuzzy as fuzz\n",
        "from skfuzzy import control as ctrl"
      ]
    },
    {
      "cell_type": "markdown",
      "metadata": {},
      "source": [
        "## Fuzzy Car Simulation\n",
        "\n",
        "Simple fuzzy logic system:\n",
        "- **Input**: Distance to obstacle (0-150)\n",
        "- **Output**: Avoidance level (0-100)\n",
        "- **Rules**: If close → avoid more, If far → avoid less\n"
      ]
    },
    {
      "cell_type": "code",
      "execution_count": 2,
      "metadata": {},
      "outputs": [],
      "source": [
        "class FuzzyCarAvoidance:\n",
        "    def __init__(self):\n",
        "        pygame.init()\n",
        "        self.screen = pygame.display.set_mode((800, 600))\n",
        "        pygame.display.set_caption(\"Fuzzy Car Obstacle Avoidance\")\n",
        "        \n",
        "        # Main settings\n",
        "        self.center_x, self.center_y = 400, 300\n",
        "        self.track_radius = 200\n",
        "        \n",
        "        # Car state\n",
        "        self.car_angle = 0\n",
        "        self.car_radius = self.track_radius\n",
        "        self.speed = 30\n",
        "        \n",
        "        # Obstacles (2 simple obstacles)\n",
        "        self.obstacles = [\n",
        "            {'angle': math.pi/3, 'size': 20},\n",
        "            {'angle': 4*math.pi/3, 'size': 20}\n",
        "        ]\n",
        "        \n",
        "        self.setup_fuzzy_system()\n",
        "        self.clock = pygame.time.Clock()\n"
      ]
    },
    {
      "cell_type": "markdown",
      "metadata": {},
      "source": [
        "## Setup Fuzzy Logic System\n"
      ]
    },
    {
      "cell_type": "code",
      "execution_count": null,
      "metadata": {},
      "outputs": [],
      "source": [
        "def setup_fuzzy_system(self):\n",
        "    # Input: distance to obstacle\n",
        "    self.distance = ctrl.Antecedent(np.arange(0, 150, 1), 'distance')\n",
        "    self.distance['close'] = fuzz.trimf(self.distance.universe, [0, 0, 60])\n",
        "    self.distance['far'] = fuzz.trimf(self.distance.universe, [40, 150, 150])\n",
        "    \n",
        "    # Output: avoidance level\n",
        "    self.avoidance = ctrl.Consequent(np.arange(0, 101, 1), 'avoidance')\n",
        "    self.avoidance['low'] = fuzz.trimf(self.avoidance.universe, [0, 0, 40])\n",
        "    self.avoidance['high'] = fuzz.trimf(self.avoidance.universe, [60, 100, 100])\n",
        "    \n",
        "    # Simple rules\n",
        "    rule1 = ctrl.Rule(self.distance['close'], self.avoidance['high'])\n",
        "    rule2 = ctrl.Rule(self.distance['far'], self.avoidance['low'])\n",
        "    \n",
        "    self.control_system = ctrl.ControlSystem([rule1, rule2])\n",
        "    self.simulator = ctrl.ControlSystemSimulation(self.control_system)\n",
        "\n",
        "# Add method to class\n",
        "FuzzyCarAvoidance.setup_fuzzy_system = setup_fuzzy_system\n"
      ]
    },
    {
      "cell_type": "markdown",
      "metadata": {},
      "source": [
        "## Distance Calculation\n"
      ]
    },
    {
      "cell_type": "code",
      "execution_count": 4,
      "metadata": {},
      "outputs": [],
      "source": [
        "def get_distance_to_nearest_obstacle(self):\n",
        "    car_x = self.center_x + self.car_radius * math.cos(self.car_angle)\n",
        "    car_y = self.center_y + self.car_radius * math.sin(self.car_angle)\n",
        "    \n",
        "    min_distance = 150\n",
        "    for obstacle in self.obstacles:\n",
        "        obs_x = self.center_x + self.track_radius * math.cos(obstacle['angle'])\n",
        "        obs_y = self.center_y + self.track_radius * math.sin(obstacle['angle'])\n",
        "        distance = math.sqrt((car_x - obs_x)**2 + (car_y - obs_y)**2)\n",
        "        if distance < min_distance:\n",
        "            min_distance = distance\n",
        "    \n",
        "    return min_distance\n",
        "\n",
        "# Add method to class\n",
        "FuzzyCarAvoidance.get_distance_to_nearest_obstacle = get_distance_to_nearest_obstacle\n"
      ]
    },
    {
      "cell_type": "markdown",
      "metadata": {},
      "source": [
        "## Car Movement Logic\n"
      ]
    },
    {
      "cell_type": "code",
      "execution_count": 5,
      "metadata": {},
      "outputs": [],
      "source": [
        "def update_car_movement(self, dt):\n",
        "    distance = self.get_distance_to_nearest_obstacle()\n",
        "    \n",
        "    # Use fuzzy logic\n",
        "    self.simulator.input['distance'] = distance\n",
        "    self.simulator.compute()\n",
        "    avoidance_level = self.simulator.output['avoidance']\n",
        "    \n",
        "    # Adjust radius based on avoidance level\n",
        "    target_radius = self.track_radius + (avoidance_level * 0.5)\n",
        "    self.car_radius += (target_radius - self.car_radius) * dt * 3\n",
        "    \n",
        "    # Limit radius\n",
        "    self.car_radius = max(150, min(300, self.car_radius))\n",
        "    \n",
        "    # Circular movement\n",
        "    angular_speed = self.speed / self.car_radius * dt\n",
        "    self.car_angle += angular_speed\n",
        "    self.car_angle = self.car_angle % (2 * math.pi)\n",
        "\n",
        "# Add method to class\n",
        "FuzzyCarAvoidance.update_car_movement = update_car_movement\n"
      ]
    },
    {
      "cell_type": "markdown",
      "metadata": {},
      "source": [
        "## Drawing Functions\n"
      ]
    },
    {
      "cell_type": "code",
      "execution_count": 6,
      "metadata": {},
      "outputs": [],
      "source": [
        "def draw(self):\n",
        "    self.screen.fill((30, 40, 50))\n",
        "    \n",
        "    # Main track\n",
        "    pygame.draw.circle(self.screen, (100, 100, 100), \n",
        "                     (self.center_x, self.center_y), self.track_radius, 2)\n",
        "    \n",
        "    # Obstacles\n",
        "    for obstacle in self.obstacles:\n",
        "        x = self.center_x + self.track_radius * math.cos(obstacle['angle'])\n",
        "        y = self.center_y + self.track_radius * math.sin(obstacle['angle'])\n",
        "        pygame.draw.circle(self.screen, (255, 100, 100), (int(x), int(y)), obstacle['size'])\n",
        "    \n",
        "    # Car\n",
        "    car_x = self.center_x + self.car_radius * math.cos(self.car_angle)\n",
        "    car_y = self.center_y + self.car_radius * math.sin(self.car_angle)\n",
        "    \n",
        "    # Change color based on distance\n",
        "    distance = self.get_distance_to_nearest_obstacle()\n",
        "    if distance < 60:\n",
        "        car_color = (255, 150, 100)  # Orange\n",
        "    else:\n",
        "        car_color = (100, 200, 255)  # Blue\n",
        "        \n",
        "    pygame.draw.circle(self.screen, car_color, (int(car_x), int(car_y)), 12)\n",
        "\n",
        "# Add method to class\n",
        "FuzzyCarAvoidance.draw = draw\n"
      ]
    },
    {
      "cell_type": "markdown",
      "metadata": {},
      "source": [
        "## Main Simulation Loop\n"
      ]
    },
    {
      "cell_type": "code",
      "execution_count": 7,
      "metadata": {},
      "outputs": [],
      "source": [
        "def run(self):\n",
        "    running = True\n",
        "    print(\"Starting simulation\")\n",
        "    \n",
        "    while running:\n",
        "        dt = self.clock.tick(60) / 1000.0\n",
        "        \n",
        "        for event in pygame.event.get():\n",
        "            if event.type == pygame.QUIT or (event.type == pygame.KEYDOWN and event.key == pygame.K_ESCAPE):\n",
        "                running = False\n",
        "        \n",
        "        self.update_car_movement(dt)\n",
        "        self.draw()\n",
        "        pygame.display.flip()\n",
        "    \n",
        "    pygame.quit()\n",
        "\n",
        "# Add method to class\n",
        "FuzzyCarAvoidance.run = run\n"
      ]
    },
    {
      "cell_type": "markdown",
      "metadata": {},
      "source": [
        "## Run Simulation\n",
        "\n",
        "Execute the cell below to start the simulation. Press **ESC** to exit.\n",
        "\n",
        "**How it works:**\n",
        "- 🔵 **Blue car** = Safe distance from obstacles\n",
        "- 🟠 **Orange car** = Close to obstacles, avoiding\n",
        "- 🔴 **Red circles** = Static obstacles on track\n"
      ]
    },
    {
      "cell_type": "code",
      "execution_count": 8,
      "metadata": {},
      "outputs": [
        {
          "name": "stdout",
          "output_type": "stream",
          "text": [
            "Starting simulation\n"
          ]
        }
      ],
      "source": [
        "# Run the simulation\n",
        "FuzzyCarAvoidance().run()\n"
      ]
    },
    {
      "cell_type": "code",
      "execution_count": null,
      "metadata": {},
      "outputs": [],
      "source": []
    }
  ],
  "metadata": {
    "kernelspec": {
      "display_name": "base",
      "language": "python",
      "name": "python3"
    },
    "language_info": {
      "codemirror_mode": {
        "name": "ipython",
        "version": 3
      },
      "file_extension": ".py",
      "mimetype": "text/x-python",
      "name": "python",
      "nbconvert_exporter": "python",
      "pygments_lexer": "ipython3",
      "version": "3.12.3"
    }
  },
  "nbformat": 4,
  "nbformat_minor": 2
}
